{
 "metadata": {
  "language_info": {
   "codemirror_mode": {
    "name": "ipython",
    "version": 3
   },
   "file_extension": ".py",
   "mimetype": "text/x-python",
   "name": "python",
   "nbconvert_exporter": "python",
   "pygments_lexer": "ipython3",
   "version": "3.6.10-final"
  },
  "orig_nbformat": 2,
  "kernelspec": {
   "name": "python3",
   "display_name": "Python 3.6.10 64-bit ('ma': conda)",
   "metadata": {
    "interpreter": {
     "hash": "739f6139ea16146f6825468ed5e82eb0c1c232f377b4e45bfd13eaa0a4a5ceb5"
    }
   }
  }
 },
 "nbformat": 4,
 "nbformat_minor": 2,
 "cells": [
  {
   "source": [
    "# Inference of pretrained model"
   ],
   "cell_type": "markdown",
   "metadata": {}
  },
  {
   "cell_type": "code",
   "execution_count": 1,
   "metadata": {},
   "outputs": [],
   "source": [
    "# system imports\n",
    "import os\n",
    "\n",
    "# additional imports\n",
    "import pandas as pd\n",
    "import numpy as np\n",
    "\n",
    "from sklearn.preprocessing import LabelEncoder, StandardScaler\n",
    "\n",
    "import torch\n",
    "\n",
    "# internal imports\n",
    "from utils import preproces, CoughNet"
   ]
  },
  {
   "source": [
    "## Path to test file"
   ],
   "cell_type": "markdown",
   "metadata": {}
  },
  {
   "cell_type": "code",
   "execution_count": 2,
   "metadata": {},
   "outputs": [],
   "source": [
    "fn_wav = 'data/test.wav' # positive example"
   ]
  },
  {
   "source": [
    "## Inference"
   ],
   "cell_type": "markdown",
   "metadata": {}
  },
  {
   "cell_type": "code",
   "execution_count": 3,
   "metadata": {},
   "outputs": [
    {
     "output_type": "stream",
     "name": "stderr",
     "text": [
      "C:\\Users\\murgu\\.conda\\envs\\ma\\lib\\site-packages\\librosa\\core\\audio.py:161: UserWarning: PySoundFile failed. Trying audioread instead.\n",
      "  warnings.warn('PySoundFile failed. Trying audioread instead.')\n",
      "model outputs [4.800137e-17 1.000000e+00] which predicts the class not_covid!\n"
     ]
    }
   ],
   "source": [
    "# load model from checkpoint\n",
    "loaded_checkpoint = torch.load('checkpoints/checkpoint.pth')\n",
    "\n",
    "hparams = loaded_checkpoint['hparams']\n",
    "scaler = loaded_checkpoint['scaler']\n",
    "encoder = loaded_checkpoint['encoder']\n",
    "\n",
    "model = CoughNet(len(hparams['features']))\n",
    "model.eval()\n",
    "model.load_state_dict(loaded_checkpoint['model_state'])\n",
    "\n",
    "# create input features\n",
    "df_features = pd.DataFrame(columns=hparams['features'])\n",
    "df_features = df_features.append(preproces(fn_wav), ignore_index=True)\n",
    "X = np.array(df_features[hparams['features']], dtype=np.float32)\n",
    "X = torch.Tensor(scaler.transform(X))\n",
    "\n",
    "outputs = torch.softmax(model(X), 1)\n",
    "predictions = torch.argmax(outputs.data, 1)\n",
    "\n",
    "# print result\n",
    "print(f'model outputs {outputs[0].detach().numpy()} which predicts the class {encoder.classes_[predictions]}!')"
   ]
  },
  {
   "cell_type": "code",
   "execution_count": null,
   "metadata": {},
   "outputs": [],
   "source": []
  }
 ]
}