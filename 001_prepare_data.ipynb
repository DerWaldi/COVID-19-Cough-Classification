{
 "metadata": {
  "language_info": {
   "codemirror_mode": {
    "name": "ipython",
    "version": 3
   },
   "file_extension": ".py",
   "mimetype": "text/x-python",
   "name": "python",
   "nbconvert_exporter": "python",
   "pygments_lexer": "ipython3",
   "version": "3.6.10-final"
  },
  "orig_nbformat": 2,
  "kernelspec": {
   "name": "python3",
   "display_name": "Python 3.6.10 64-bit ('ma': conda)",
   "metadata": {
    "interpreter": {
     "hash": "739f6139ea16146f6825468ed5e82eb0c1c232f377b4e45bfd13eaa0a4a5ceb5"
    }
   }
  }
 },
 "nbformat": 4,
 "nbformat_minor": 2,
 "cells": [
  {
   "source": [
    "# Prepare Data for Training"
   ],
   "cell_type": "markdown",
   "metadata": {}
  },
  {
   "cell_type": "code",
   "execution_count": 14,
   "metadata": {},
   "outputs": [],
   "source": [
    "# system imports\n",
    "import os\n",
    "import glob\n",
    "\n",
    "# additional imports\n",
    "import pandas as pd\n",
    "from tqdm.auto import tqdm\n",
    "from sklearn.utils import resample\n",
    "\n",
    "# internal imports\n",
    "from utils import preproces"
   ]
  },
  {
   "source": [
    "## Kaggle Dataset - Exploration"
   ],
   "cell_type": "markdown",
   "metadata": {}
  },
  {
   "cell_type": "code",
   "execution_count": 6,
   "metadata": {},
   "outputs": [
    {
     "output_type": "stream",
     "name": "stdout",
     "text": [
      "Total number of examples: 170\nNumber of positive examples: 19\nNumber of negative examples: 151\n"
     ]
    },
    {
     "output_type": "execute_result",
     "data": {
      "text/plain": [
       "                     file_properties      class\n",
       "0    0v8MGxNetjg_ 10.000_ 20.000.wav  not_covid\n",
       "1    1j1duoxdxBg_ 70.000_ 80.000.wav  not_covid\n",
       "2  1MSYO4wgiag_ 120.000_ 130.000.wav  not_covid\n",
       "3     1PajbAKd8Kg_ 0.000_ 10.000.wav  not_covid\n",
       "4                           cov1.wav      covid"
      ],
      "text/html": "<div>\n<style scoped>\n    .dataframe tbody tr th:only-of-type {\n        vertical-align: middle;\n    }\n\n    .dataframe tbody tr th {\n        vertical-align: top;\n    }\n\n    .dataframe thead th {\n        text-align: right;\n    }\n</style>\n<table border=\"1\" class=\"dataframe\">\n  <thead>\n    <tr style=\"text-align: right;\">\n      <th></th>\n      <th>file_properties</th>\n      <th>class</th>\n    </tr>\n  </thead>\n  <tbody>\n    <tr>\n      <td>0</td>\n      <td>0v8MGxNetjg_ 10.000_ 20.000.wav</td>\n      <td>not_covid</td>\n    </tr>\n    <tr>\n      <td>1</td>\n      <td>1j1duoxdxBg_ 70.000_ 80.000.wav</td>\n      <td>not_covid</td>\n    </tr>\n    <tr>\n      <td>2</td>\n      <td>1MSYO4wgiag_ 120.000_ 130.000.wav</td>\n      <td>not_covid</td>\n    </tr>\n    <tr>\n      <td>3</td>\n      <td>1PajbAKd8Kg_ 0.000_ 10.000.wav</td>\n      <td>not_covid</td>\n    </tr>\n    <tr>\n      <td>4</td>\n      <td>cov1.wav</td>\n      <td>covid</td>\n    </tr>\n  </tbody>\n</table>\n</div>"
     },
     "metadata": {},
     "execution_count": 6
    }
   ],
   "source": [
    "# download and extract the dataset from kaggle into the ./data/kaggle folder!\n",
    "# https://www.kaggle.com/himanshu007121/coughclassifier-trial/download\n",
    "\n",
    "fn_dataset = 'data/kaggle/cough_trial_extended.csv'\n",
    "df_dataset = pd.read_csv(fn_dataset)\n",
    "\n",
    "print('Total number of examples:', len(df_dataset))\n",
    "print('Number of positive examples:', len(df_dataset[df_dataset['class'] == 'covid']))\n",
    "print('Number of negative examples:', len(df_dataset[df_dataset['class'] == 'not_covid']))\n",
    "\n",
    "df_dataset.head()"
   ]
  },
  {
   "source": [
    "## Kaggle Dataset - Feature Extraction"
   ],
   "cell_type": "markdown",
   "metadata": {}
  },
  {
   "cell_type": "code",
   "execution_count": 9,
   "metadata": {
    "tags": []
   },
   "outputs": [
    {
     "output_type": "stream",
     "name": "stderr",
     "text": [
      "100%|██████████| 170/170 [00:17<00:00,  9.82it/s]\n"
     ]
    },
    {
     "output_type": "execute_result",
     "data": {
      "text/plain": [
       "                            filename  chroma_stft      rmse  \\\n",
       "0    0v8MGxNetjg_ 10.000_ 20.000.wav     0.519951  0.045853   \n",
       "1    1j1duoxdxBg_ 70.000_ 80.000.wav     0.535472  0.001771   \n",
       "2  1MSYO4wgiag_ 120.000_ 130.000.wav     0.496666  0.033657   \n",
       "3     1PajbAKd8Kg_ 0.000_ 10.000.wav     0.407549  0.013452   \n",
       "4                           cov1.wav     0.412697  0.059004   \n",
       "\n",
       "   spectral_centroid  spectral_bandwidth      rolloff  zero_crossing_rate  \\\n",
       "0        1612.895795         1411.838677  2907.580566            0.107019   \n",
       "1        2892.087076         2467.408141  5072.664388            0.148584   \n",
       "2        3429.061935         2788.634413  6886.288452            0.225315   \n",
       "3        2710.811637         2664.287550  5778.474935            0.142076   \n",
       "4        1555.648634         1418.599932  2870.737092            0.133998   \n",
       "\n",
       "        mfcc1       mfcc2      mfcc3  ...    mfcc12    mfcc13    mfcc14  \\\n",
       "0 -376.876007  111.017372 -31.904015  ... -7.439712 -1.034580 -0.203084   \n",
       "1 -519.158447   60.781284 -13.722886  ... -0.909972  7.216461 -1.719630   \n",
       "2 -282.297913   48.581680 -15.522366  ... -6.066336 -4.167640  1.017302   \n",
       "3 -346.857300   75.765617  -7.648193  ...  5.053118 -0.291308  0.987186   \n",
       "4 -340.588013  104.156700 -32.228443  ... -8.247169  0.940006 -5.701087   \n",
       "\n",
       "     mfcc15    mfcc16    mfcc17    mfcc18    mfcc19    mfcc20      label  \n",
       "0 -3.513495 -1.745705 -3.011878 -2.878482 -2.106427 -4.026825  not_covid  \n",
       "1  3.903021  3.653039  3.043882  2.439957  2.781968  2.195162  not_covid  \n",
       "2 -0.523806  0.538693 -8.855953 -2.927977 -1.118562 -5.906228  not_covid  \n",
       "3 -2.447526  3.692367  2.312328 -2.059656 -4.772599 -0.503851  not_covid  \n",
       "4 -6.326630 -1.080040 -1.812609 -2.518986 -3.684266 -3.564146      covid  \n",
       "\n",
       "[5 rows x 28 columns]"
      ],
      "text/html": "<div>\n<style scoped>\n    .dataframe tbody tr th:only-of-type {\n        vertical-align: middle;\n    }\n\n    .dataframe tbody tr th {\n        vertical-align: top;\n    }\n\n    .dataframe thead th {\n        text-align: right;\n    }\n</style>\n<table border=\"1\" class=\"dataframe\">\n  <thead>\n    <tr style=\"text-align: right;\">\n      <th></th>\n      <th>filename</th>\n      <th>chroma_stft</th>\n      <th>rmse</th>\n      <th>spectral_centroid</th>\n      <th>spectral_bandwidth</th>\n      <th>rolloff</th>\n      <th>zero_crossing_rate</th>\n      <th>mfcc1</th>\n      <th>mfcc2</th>\n      <th>mfcc3</th>\n      <th>...</th>\n      <th>mfcc12</th>\n      <th>mfcc13</th>\n      <th>mfcc14</th>\n      <th>mfcc15</th>\n      <th>mfcc16</th>\n      <th>mfcc17</th>\n      <th>mfcc18</th>\n      <th>mfcc19</th>\n      <th>mfcc20</th>\n      <th>label</th>\n    </tr>\n  </thead>\n  <tbody>\n    <tr>\n      <td>0</td>\n      <td>0v8MGxNetjg_ 10.000_ 20.000.wav</td>\n      <td>0.519951</td>\n      <td>0.045853</td>\n      <td>1612.895795</td>\n      <td>1411.838677</td>\n      <td>2907.580566</td>\n      <td>0.107019</td>\n      <td>-376.876007</td>\n      <td>111.017372</td>\n      <td>-31.904015</td>\n      <td>...</td>\n      <td>-7.439712</td>\n      <td>-1.034580</td>\n      <td>-0.203084</td>\n      <td>-3.513495</td>\n      <td>-1.745705</td>\n      <td>-3.011878</td>\n      <td>-2.878482</td>\n      <td>-2.106427</td>\n      <td>-4.026825</td>\n      <td>not_covid</td>\n    </tr>\n    <tr>\n      <td>1</td>\n      <td>1j1duoxdxBg_ 70.000_ 80.000.wav</td>\n      <td>0.535472</td>\n      <td>0.001771</td>\n      <td>2892.087076</td>\n      <td>2467.408141</td>\n      <td>5072.664388</td>\n      <td>0.148584</td>\n      <td>-519.158447</td>\n      <td>60.781284</td>\n      <td>-13.722886</td>\n      <td>...</td>\n      <td>-0.909972</td>\n      <td>7.216461</td>\n      <td>-1.719630</td>\n      <td>3.903021</td>\n      <td>3.653039</td>\n      <td>3.043882</td>\n      <td>2.439957</td>\n      <td>2.781968</td>\n      <td>2.195162</td>\n      <td>not_covid</td>\n    </tr>\n    <tr>\n      <td>2</td>\n      <td>1MSYO4wgiag_ 120.000_ 130.000.wav</td>\n      <td>0.496666</td>\n      <td>0.033657</td>\n      <td>3429.061935</td>\n      <td>2788.634413</td>\n      <td>6886.288452</td>\n      <td>0.225315</td>\n      <td>-282.297913</td>\n      <td>48.581680</td>\n      <td>-15.522366</td>\n      <td>...</td>\n      <td>-6.066336</td>\n      <td>-4.167640</td>\n      <td>1.017302</td>\n      <td>-0.523806</td>\n      <td>0.538693</td>\n      <td>-8.855953</td>\n      <td>-2.927977</td>\n      <td>-1.118562</td>\n      <td>-5.906228</td>\n      <td>not_covid</td>\n    </tr>\n    <tr>\n      <td>3</td>\n      <td>1PajbAKd8Kg_ 0.000_ 10.000.wav</td>\n      <td>0.407549</td>\n      <td>0.013452</td>\n      <td>2710.811637</td>\n      <td>2664.287550</td>\n      <td>5778.474935</td>\n      <td>0.142076</td>\n      <td>-346.857300</td>\n      <td>75.765617</td>\n      <td>-7.648193</td>\n      <td>...</td>\n      <td>5.053118</td>\n      <td>-0.291308</td>\n      <td>0.987186</td>\n      <td>-2.447526</td>\n      <td>3.692367</td>\n      <td>2.312328</td>\n      <td>-2.059656</td>\n      <td>-4.772599</td>\n      <td>-0.503851</td>\n      <td>not_covid</td>\n    </tr>\n    <tr>\n      <td>4</td>\n      <td>cov1.wav</td>\n      <td>0.412697</td>\n      <td>0.059004</td>\n      <td>1555.648634</td>\n      <td>1418.599932</td>\n      <td>2870.737092</td>\n      <td>0.133998</td>\n      <td>-340.588013</td>\n      <td>104.156700</td>\n      <td>-32.228443</td>\n      <td>...</td>\n      <td>-8.247169</td>\n      <td>0.940006</td>\n      <td>-5.701087</td>\n      <td>-6.326630</td>\n      <td>-1.080040</td>\n      <td>-1.812609</td>\n      <td>-2.518986</td>\n      <td>-3.684266</td>\n      <td>-3.564146</td>\n      <td>covid</td>\n    </tr>\n  </tbody>\n</table>\n<p>5 rows × 28 columns</p>\n</div>"
     },
     "metadata": {},
     "execution_count": 9
    }
   ],
   "source": [
    "df_features_cols = ['filename', 'chroma_stft', 'rmse', 'spectral_centroid', 'spectral_bandwidth', 'rolloff', 'zero_crossing_rate']\n",
    "for i in range(1, 21):\n",
    "    df_features_cols.append(f'mfcc{i}')\n",
    "df_features_cols.append('label')\n",
    "\n",
    "df_features = pd.DataFrame(columns=df_features_cols)\n",
    "\n",
    "for row_index, row in tqdm(df_dataset.iterrows(), total=len(df_dataset)):\n",
    "    fn_wav = os.path.join('data/kaggle/trial_covid/', row['file_properties'])\n",
    "    feature_row = preproces(fn_wav)\n",
    "    feature_row['filename'] = row['file_properties']\n",
    "    feature_row['label'] = row['class']\n",
    "    df_features = df_features.append(feature_row, ignore_index=True)\n",
    "\n",
    "df_features.to_csv('data/prepared_data_kaggle.csv', index=False, columns=df_features_cols)\n",
    "\n",
    "df_features.head()"
   ]
  },
  {
   "source": [
    "## Virufy Dataset - Exploration"
   ],
   "cell_type": "markdown",
   "metadata": {}
  },
  {
   "cell_type": "code",
   "execution_count": 10,
   "metadata": {},
   "outputs": [
    {
     "output_type": "stream",
     "name": "stdout",
     "text": [
      "Total number of examples: 121\nNumber of positive examples: 48\nNumber of negative examples: 73\n"
     ]
    },
    {
     "output_type": "execute_result",
     "data": {
      "text/plain": [
       "                                 file_properties  class\n",
       "0  data/virufy/pos\\pos-0421-084-cough-m-50-0.mp3  covid\n",
       "1  data/virufy/pos\\pos-0421-084-cough-m-50-1.mp3  covid\n",
       "2  data/virufy/pos\\pos-0421-084-cough-m-50-2.mp3  covid\n",
       "3  data/virufy/pos\\pos-0421-084-cough-m-50-3.mp3  covid\n",
       "4  data/virufy/pos\\pos-0421-084-cough-m-50-4.mp3  covid"
      ],
      "text/html": "<div>\n<style scoped>\n    .dataframe tbody tr th:only-of-type {\n        vertical-align: middle;\n    }\n\n    .dataframe tbody tr th {\n        vertical-align: top;\n    }\n\n    .dataframe thead th {\n        text-align: right;\n    }\n</style>\n<table border=\"1\" class=\"dataframe\">\n  <thead>\n    <tr style=\"text-align: right;\">\n      <th></th>\n      <th>file_properties</th>\n      <th>class</th>\n    </tr>\n  </thead>\n  <tbody>\n    <tr>\n      <td>0</td>\n      <td>data/virufy/pos\\pos-0421-084-cough-m-50-0.mp3</td>\n      <td>covid</td>\n    </tr>\n    <tr>\n      <td>1</td>\n      <td>data/virufy/pos\\pos-0421-084-cough-m-50-1.mp3</td>\n      <td>covid</td>\n    </tr>\n    <tr>\n      <td>2</td>\n      <td>data/virufy/pos\\pos-0421-084-cough-m-50-2.mp3</td>\n      <td>covid</td>\n    </tr>\n    <tr>\n      <td>3</td>\n      <td>data/virufy/pos\\pos-0421-084-cough-m-50-3.mp3</td>\n      <td>covid</td>\n    </tr>\n    <tr>\n      <td>4</td>\n      <td>data/virufy/pos\\pos-0421-084-cough-m-50-4.mp3</td>\n      <td>covid</td>\n    </tr>\n  </tbody>\n</table>\n</div>"
     },
     "metadata": {},
     "execution_count": 10
    }
   ],
   "source": [
    "# download and extract the segmented folder of the virufy dataset into the ./data/virufy folder!\n",
    "# https://github.com/virufy/virufy_data/tree/main/clinical/segmented\n",
    "\n",
    "df_dataset = pd.DataFrame(columns=['file_properties', 'class'])\n",
    "for fn in glob.glob('data/virufy/pos/*.mp3'):\n",
    "    df_dataset = df_dataset.append({'file_properties': fn, 'class': 'covid'}, ignore_index=True)\n",
    "for fn in glob.glob('data/virufy/neg/*.mp3'):\n",
    "    df_dataset = df_dataset.append({'file_properties': fn, 'class': 'not_covid'}, ignore_index=True)\n",
    "\n",
    "print('Total number of examples:', len(df_dataset))\n",
    "print('Number of positive examples:', len(df_dataset[df_dataset['class'] == 'covid']))\n",
    "print('Number of negative examples:', len(df_dataset[df_dataset['class'] == 'not_covid']))\n",
    "\n",
    "df_dataset.head()"
   ]
  },
  {
   "source": [
    "## Virufy Dataset - Feature Extraction"
   ],
   "cell_type": "markdown",
   "metadata": {}
  },
  {
   "cell_type": "code",
   "execution_count": 11,
   "metadata": {},
   "outputs": [
    {
     "output_type": "stream",
     "name": "stderr",
     "text": [
      "  0%|          | 0/121 [00:00<?, ?it/s]C:\\Users\\murgu\\.conda\\envs\\ma\\lib\\site-packages\\librosa\\core\\audio.py:161: UserWarning: PySoundFile failed. Trying audioread instead.\n",
      "  warnings.warn('PySoundFile failed. Trying audioread instead.')\n",
      "100%|██████████| 121/121 [00:30<00:00,  4.00it/s]\n"
     ]
    },
    {
     "output_type": "execute_result",
     "data": {
      "text/plain": [
       "                                        filename  chroma_stft      rmse  \\\n",
       "0  data/virufy/pos\\pos-0421-084-cough-m-50-0.mp3     0.248572  0.038160   \n",
       "1  data/virufy/pos\\pos-0421-084-cough-m-50-1.mp3     0.272890  0.042899   \n",
       "2  data/virufy/pos\\pos-0421-084-cough-m-50-2.mp3     0.211356  0.045217   \n",
       "3  data/virufy/pos\\pos-0421-084-cough-m-50-3.mp3     0.274176  0.050415   \n",
       "4  data/virufy/pos\\pos-0421-084-cough-m-50-4.mp3     0.259742  0.045859   \n",
       "\n",
       "   spectral_centroid  spectral_bandwidth      rolloff  zero_crossing_rate  \\\n",
       "0         928.803303          985.394400  1928.469981            0.049996   \n",
       "1        1198.073413         1228.456213  2544.662874            0.058636   \n",
       "2         779.386249          813.789555  1617.642875            0.039905   \n",
       "3        1166.375454         1128.140040  2349.459706            0.062196   \n",
       "4        1104.659730         1145.806281  2281.427267            0.054963   \n",
       "\n",
       "        mfcc1      mfcc2      mfcc3  ...     mfcc12    mfcc13    mfcc14  \\\n",
       "0 -452.175018  51.507637  -2.926436  ...  -8.539044 -4.274072 -6.053506   \n",
       "1 -411.897034  50.288296 -10.509840  ... -10.116323 -2.845035 -6.256668   \n",
       "2 -419.055237  54.782490 -12.589089  ... -10.108368 -1.575916 -6.721029   \n",
       "3 -381.292816  61.291149 -18.051516  ... -12.777524 -0.523028 -8.939261   \n",
       "4 -399.710876  61.209465 -15.755272  ... -11.284485 -0.295882 -8.218568   \n",
       "\n",
       "     mfcc15    mfcc16    mfcc17    mfcc18    mfcc19    mfcc20  label  \n",
       "0  4.326995 -2.804232 -8.568246 -4.783424 -4.805704 -6.343561  covid  \n",
       "1  1.597882 -6.182134 -7.652954 -4.851939 -4.445810 -5.718525  covid  \n",
       "2  0.889090 -6.616120 -5.551765 -3.358707 -4.357968 -5.224887  covid  \n",
       "3  1.442178 -4.029651 -8.327115 -5.125196 -6.032467 -5.149289  covid  \n",
       "4  2.517593 -1.999434 -7.744737 -3.366359 -5.900706 -7.301231  covid  \n",
       "\n",
       "[5 rows x 28 columns]"
      ],
      "text/html": "<div>\n<style scoped>\n    .dataframe tbody tr th:only-of-type {\n        vertical-align: middle;\n    }\n\n    .dataframe tbody tr th {\n        vertical-align: top;\n    }\n\n    .dataframe thead th {\n        text-align: right;\n    }\n</style>\n<table border=\"1\" class=\"dataframe\">\n  <thead>\n    <tr style=\"text-align: right;\">\n      <th></th>\n      <th>filename</th>\n      <th>chroma_stft</th>\n      <th>rmse</th>\n      <th>spectral_centroid</th>\n      <th>spectral_bandwidth</th>\n      <th>rolloff</th>\n      <th>zero_crossing_rate</th>\n      <th>mfcc1</th>\n      <th>mfcc2</th>\n      <th>mfcc3</th>\n      <th>...</th>\n      <th>mfcc12</th>\n      <th>mfcc13</th>\n      <th>mfcc14</th>\n      <th>mfcc15</th>\n      <th>mfcc16</th>\n      <th>mfcc17</th>\n      <th>mfcc18</th>\n      <th>mfcc19</th>\n      <th>mfcc20</th>\n      <th>label</th>\n    </tr>\n  </thead>\n  <tbody>\n    <tr>\n      <td>0</td>\n      <td>data/virufy/pos\\pos-0421-084-cough-m-50-0.mp3</td>\n      <td>0.248572</td>\n      <td>0.038160</td>\n      <td>928.803303</td>\n      <td>985.394400</td>\n      <td>1928.469981</td>\n      <td>0.049996</td>\n      <td>-452.175018</td>\n      <td>51.507637</td>\n      <td>-2.926436</td>\n      <td>...</td>\n      <td>-8.539044</td>\n      <td>-4.274072</td>\n      <td>-6.053506</td>\n      <td>4.326995</td>\n      <td>-2.804232</td>\n      <td>-8.568246</td>\n      <td>-4.783424</td>\n      <td>-4.805704</td>\n      <td>-6.343561</td>\n      <td>covid</td>\n    </tr>\n    <tr>\n      <td>1</td>\n      <td>data/virufy/pos\\pos-0421-084-cough-m-50-1.mp3</td>\n      <td>0.272890</td>\n      <td>0.042899</td>\n      <td>1198.073413</td>\n      <td>1228.456213</td>\n      <td>2544.662874</td>\n      <td>0.058636</td>\n      <td>-411.897034</td>\n      <td>50.288296</td>\n      <td>-10.509840</td>\n      <td>...</td>\n      <td>-10.116323</td>\n      <td>-2.845035</td>\n      <td>-6.256668</td>\n      <td>1.597882</td>\n      <td>-6.182134</td>\n      <td>-7.652954</td>\n      <td>-4.851939</td>\n      <td>-4.445810</td>\n      <td>-5.718525</td>\n      <td>covid</td>\n    </tr>\n    <tr>\n      <td>2</td>\n      <td>data/virufy/pos\\pos-0421-084-cough-m-50-2.mp3</td>\n      <td>0.211356</td>\n      <td>0.045217</td>\n      <td>779.386249</td>\n      <td>813.789555</td>\n      <td>1617.642875</td>\n      <td>0.039905</td>\n      <td>-419.055237</td>\n      <td>54.782490</td>\n      <td>-12.589089</td>\n      <td>...</td>\n      <td>-10.108368</td>\n      <td>-1.575916</td>\n      <td>-6.721029</td>\n      <td>0.889090</td>\n      <td>-6.616120</td>\n      <td>-5.551765</td>\n      <td>-3.358707</td>\n      <td>-4.357968</td>\n      <td>-5.224887</td>\n      <td>covid</td>\n    </tr>\n    <tr>\n      <td>3</td>\n      <td>data/virufy/pos\\pos-0421-084-cough-m-50-3.mp3</td>\n      <td>0.274176</td>\n      <td>0.050415</td>\n      <td>1166.375454</td>\n      <td>1128.140040</td>\n      <td>2349.459706</td>\n      <td>0.062196</td>\n      <td>-381.292816</td>\n      <td>61.291149</td>\n      <td>-18.051516</td>\n      <td>...</td>\n      <td>-12.777524</td>\n      <td>-0.523028</td>\n      <td>-8.939261</td>\n      <td>1.442178</td>\n      <td>-4.029651</td>\n      <td>-8.327115</td>\n      <td>-5.125196</td>\n      <td>-6.032467</td>\n      <td>-5.149289</td>\n      <td>covid</td>\n    </tr>\n    <tr>\n      <td>4</td>\n      <td>data/virufy/pos\\pos-0421-084-cough-m-50-4.mp3</td>\n      <td>0.259742</td>\n      <td>0.045859</td>\n      <td>1104.659730</td>\n      <td>1145.806281</td>\n      <td>2281.427267</td>\n      <td>0.054963</td>\n      <td>-399.710876</td>\n      <td>61.209465</td>\n      <td>-15.755272</td>\n      <td>...</td>\n      <td>-11.284485</td>\n      <td>-0.295882</td>\n      <td>-8.218568</td>\n      <td>2.517593</td>\n      <td>-1.999434</td>\n      <td>-7.744737</td>\n      <td>-3.366359</td>\n      <td>-5.900706</td>\n      <td>-7.301231</td>\n      <td>covid</td>\n    </tr>\n  </tbody>\n</table>\n<p>5 rows × 28 columns</p>\n</div>"
     },
     "metadata": {},
     "execution_count": 11
    }
   ],
   "source": [
    "df_features_cols = ['filename', 'chroma_stft', 'rmse', 'spectral_centroid', 'spectral_bandwidth', 'rolloff', 'zero_crossing_rate']\n",
    "for i in range(1, 21):\n",
    "    df_features_cols.append(f'mfcc{i}')\n",
    "df_features_cols.append('label')\n",
    "\n",
    "df_features = pd.DataFrame(columns=df_features_cols)\n",
    "\n",
    "for row_index, row in tqdm(df_dataset.iterrows(), total=len(df_dataset)):\n",
    "    fn_wav = row['file_properties']\n",
    "    feature_row = preproces(fn_wav)\n",
    "    feature_row['filename'] = row['file_properties']\n",
    "    feature_row['label'] = row['class']\n",
    "    df_features = df_features.append(feature_row, ignore_index=True)\n",
    "\n",
    "df_features.to_csv('data/prepared_data_virufy.csv', index=False, columns=df_features_cols)\n",
    "\n",
    "df_features.head()"
   ]
  },
  {
   "source": [
    "## Combine Datasets"
   ],
   "cell_type": "markdown",
   "metadata": {}
  },
  {
   "cell_type": "code",
   "execution_count": 16,
   "metadata": {},
   "outputs": [
    {
     "output_type": "stream",
     "name": "stdout",
     "text": [
      "Total number of examples: 291\nNumber of positive examples: 67\nNumber of negative examples: 224\n"
     ]
    }
   ],
   "source": [
    "df_features_kaggle = pd.read_csv('data/prepared_data_kaggle.csv')\n",
    "df_features_virufy = pd.read_csv('data/prepared_data_virufy.csv')\n",
    "df_features = pd.concat([df_features_kaggle, df_features_virufy])\n",
    "\n",
    "df_features.to_csv('data/prepared_data.csv', index=False, columns=df_features_cols)\n",
    "\n",
    "print('Total number of examples:', len(df_features))\n",
    "print('Number of positive examples:', len(df_features[df_features['label'] == 'covid']))\n",
    "print('Number of negative examples:', len(df_features[df_features['label'] == 'not_covid']))"
   ]
  },
  {
   "source": [
    "## Balanced Dataset"
   ],
   "cell_type": "markdown",
   "metadata": {}
  },
  {
   "cell_type": "code",
   "execution_count": 19,
   "metadata": {},
   "outputs": [
    {
     "output_type": "stream",
     "name": "stdout",
     "text": [
      "Total number of examples: 134\nNumber of positive examples: 67\nNumber of negative examples: 67\n"
     ]
    }
   ],
   "source": [
    "df_features = pd.read_csv('data/prepared_data.csv')\n",
    "\n",
    "# Separate majority and minority classes\n",
    "df_majority = df_features[df_features['label'] == 'not_covid']\n",
    "df_minority = df_features[df_features['label'] == 'covid']\n",
    " \n",
    "# Downsample majority class\n",
    "df_majority_balanced = resample(df_majority, replace=False, n_samples=len(df_minority), random_state=42)\n",
    " \n",
    "# Combine minority class with downsampled majority class\n",
    "df_balanced = pd.concat([df_majority_balanced, df_minority])\n",
    "\n",
    "df_balanced.to_csv('data/prepared_data_balanced.csv', index=False)\n",
    "\n",
    "print('Total number of examples:', len(df_balanced))\n",
    "print('Number of positive examples:', len(df_balanced[df_balanced['label'] == 'covid']))\n",
    "print('Number of negative examples:', len(df_balanced[df_balanced['label'] == 'not_covid']))"
   ]
  },
  {
   "cell_type": "code",
   "execution_count": null,
   "metadata": {},
   "outputs": [],
   "source": []
  }
 ]
}