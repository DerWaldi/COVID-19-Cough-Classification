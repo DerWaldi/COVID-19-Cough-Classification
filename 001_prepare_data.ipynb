{
 "metadata": {
  "language_info": {
   "codemirror_mode": {
    "name": "ipython",
    "version": 3
   },
   "file_extension": ".py",
   "mimetype": "text/x-python",
   "name": "python",
   "nbconvert_exporter": "python",
   "pygments_lexer": "ipython3",
   "version": "3.6.10-final"
  },
  "orig_nbformat": 2,
  "kernelspec": {
   "name": "python3",
   "display_name": "Python 3.6.10 64-bit ('ma': conda)",
   "metadata": {
    "interpreter": {
     "hash": "739f6139ea16146f6825468ed5e82eb0c1c232f377b4e45bfd13eaa0a4a5ceb5"
    }
   }
  }
 },
 "nbformat": 4,
 "nbformat_minor": 2,
 "cells": [
  {
   "source": [
    "# Prepare Data for Training"
   ],
   "cell_type": "markdown",
   "metadata": {}
  },
  {
   "cell_type": "code",
   "execution_count": 1,
   "metadata": {},
   "outputs": [],
   "source": [
    "# system imports\n",
    "import os\n",
    "\n",
    "# additional imports\n",
    "import pandas as pd\n",
    "from tqdm.auto import tqdm\n",
    "\n",
    "# internal imports\n",
    "from utils import preproces"
   ]
  },
  {
   "source": [
    "## Download and Extract Dataset"
   ],
   "cell_type": "markdown",
   "metadata": {}
  },
  {
   "cell_type": "code",
   "execution_count": 2,
   "metadata": {},
   "outputs": [
    {
     "output_type": "execute_result",
     "data": {
      "text/plain": [
       "                     file_properties      class\n",
       "0    0v8MGxNetjg_ 10.000_ 20.000.wav  not_covid\n",
       "1    1j1duoxdxBg_ 70.000_ 80.000.wav  not_covid\n",
       "2  1MSYO4wgiag_ 120.000_ 130.000.wav  not_covid\n",
       "3     1PajbAKd8Kg_ 0.000_ 10.000.wav  not_covid\n",
       "4                           cov1.wav      covid"
      ],
      "text/html": "<div>\n<style scoped>\n    .dataframe tbody tr th:only-of-type {\n        vertical-align: middle;\n    }\n\n    .dataframe tbody tr th {\n        vertical-align: top;\n    }\n\n    .dataframe thead th {\n        text-align: right;\n    }\n</style>\n<table border=\"1\" class=\"dataframe\">\n  <thead>\n    <tr style=\"text-align: right;\">\n      <th></th>\n      <th>file_properties</th>\n      <th>class</th>\n    </tr>\n  </thead>\n  <tbody>\n    <tr>\n      <td>0</td>\n      <td>0v8MGxNetjg_ 10.000_ 20.000.wav</td>\n      <td>not_covid</td>\n    </tr>\n    <tr>\n      <td>1</td>\n      <td>1j1duoxdxBg_ 70.000_ 80.000.wav</td>\n      <td>not_covid</td>\n    </tr>\n    <tr>\n      <td>2</td>\n      <td>1MSYO4wgiag_ 120.000_ 130.000.wav</td>\n      <td>not_covid</td>\n    </tr>\n    <tr>\n      <td>3</td>\n      <td>1PajbAKd8Kg_ 0.000_ 10.000.wav</td>\n      <td>not_covid</td>\n    </tr>\n    <tr>\n      <td>4</td>\n      <td>cov1.wav</td>\n      <td>covid</td>\n    </tr>\n  </tbody>\n</table>\n</div>"
     },
     "metadata": {},
     "execution_count": 2
    }
   ],
   "source": [
    "# download and extract the dataset from kaggle into the ./data/ folder!\n",
    "# https://www.kaggle.com/himanshu007121/coughclassifier-trial/download\n",
    "\n",
    "fn_dataset = \"data/cough_trial_extended.csv\"\n",
    "df_dataset = pd.read_csv(fn_dataset)\n",
    "df_dataset.head()"
   ]
  },
  {
   "source": [
    "## Feature Extraction"
   ],
   "cell_type": "markdown",
   "metadata": {}
  },
  {
   "cell_type": "code",
   "execution_count": 3,
   "metadata": {
    "tags": []
   },
   "outputs": [
    {
     "output_type": "stream",
     "name": "stderr",
     "text": [
      "100%|██████████| 170/170 [00:31<00:00,  5.38it/s]\n"
     ]
    }
   ],
   "source": [
    "df_features_cols = [\"filename\", \"chroma_stft\", \"rmse\", \"spectral_centroid\", \"spectral_bandwidth\", \"rolloff\", \"zero_crossing_rate\"]\n",
    "for i in range(1, 21):\n",
    "    df_features_cols.append(f'mfcc{i}')\n",
    "df_features_cols.append('label')\n",
    "\n",
    "df_features = pd.DataFrame(columns=df_features_cols)\n",
    "\n",
    "for row_index, row in tqdm(df_dataset.iterrows(), total=len(df_dataset)):\n",
    "    fn_wav = os.path.join(\"data/trial_covid/\", row[\"file_properties\"])\n",
    "    feature_row = preproces(fn_wav)\n",
    "    feature_row[\"filename\"] = row[\"file_properties\"]\n",
    "    feature_row[\"label\"] = row[\"class\"]\n",
    "    df_features = df_features.append(feature_row, ignore_index=True)\n",
    "\n",
    "df_features.to_csv(\"data/prepared_data.csv\", index=False, columns=df_features_cols)"
   ]
  },
  {
   "cell_type": "code",
   "execution_count": 4,
   "metadata": {},
   "outputs": [
    {
     "output_type": "execute_result",
     "data": {
      "text/plain": [
       "                            filename  chroma_stft      rmse  \\\n",
       "0    0v8MGxNetjg_ 10.000_ 20.000.wav     0.519951  0.045853   \n",
       "1    1j1duoxdxBg_ 70.000_ 80.000.wav     0.535472  0.001771   \n",
       "2  1MSYO4wgiag_ 120.000_ 130.000.wav     0.496666  0.033657   \n",
       "3     1PajbAKd8Kg_ 0.000_ 10.000.wav     0.407549  0.013452   \n",
       "4                           cov1.wav     0.412697  0.059004   \n",
       "\n",
       "   spectral_centroid  spectral_bandwidth      rolloff  zero_crossing_rate  \\\n",
       "0        1612.895795         1411.838677  2907.580566            0.107019   \n",
       "1        2892.087076         2467.408141  5072.664388            0.148584   \n",
       "2        3429.061935         2788.634413  6886.288452            0.225315   \n",
       "3        2710.811637         2664.287550  5778.474935            0.142076   \n",
       "4        1555.648634         1418.599932  2870.737092            0.133998   \n",
       "\n",
       "        mfcc1       mfcc2      mfcc3  ...    mfcc12    mfcc13    mfcc14  \\\n",
       "0 -376.876007  111.017372 -31.904015  ... -7.439712 -1.034580 -0.203084   \n",
       "1 -519.158447   60.781284 -13.722886  ... -0.909972  7.216461 -1.719630   \n",
       "2 -282.297913   48.581680 -15.522366  ... -6.066336 -4.167640  1.017302   \n",
       "3 -346.857300   75.765617  -7.648193  ...  5.053118 -0.291308  0.987186   \n",
       "4 -340.588013  104.156700 -32.228443  ... -8.247169  0.940006 -5.701087   \n",
       "\n",
       "     mfcc15    mfcc16    mfcc17    mfcc18    mfcc19    mfcc20      label  \n",
       "0 -3.513495 -1.745705 -3.011878 -2.878482 -2.106427 -4.026825  not_covid  \n",
       "1  3.903021  3.653039  3.043882  2.439957  2.781968  2.195162  not_covid  \n",
       "2 -0.523806  0.538693 -8.855953 -2.927977 -1.118562 -5.906228  not_covid  \n",
       "3 -2.447526  3.692367  2.312328 -2.059656 -4.772599 -0.503851  not_covid  \n",
       "4 -6.326630 -1.080040 -1.812609 -2.518986 -3.684266 -3.564146      covid  \n",
       "\n",
       "[5 rows x 28 columns]"
      ],
      "text/html": "<div>\n<style scoped>\n    .dataframe tbody tr th:only-of-type {\n        vertical-align: middle;\n    }\n\n    .dataframe tbody tr th {\n        vertical-align: top;\n    }\n\n    .dataframe thead th {\n        text-align: right;\n    }\n</style>\n<table border=\"1\" class=\"dataframe\">\n  <thead>\n    <tr style=\"text-align: right;\">\n      <th></th>\n      <th>filename</th>\n      <th>chroma_stft</th>\n      <th>rmse</th>\n      <th>spectral_centroid</th>\n      <th>spectral_bandwidth</th>\n      <th>rolloff</th>\n      <th>zero_crossing_rate</th>\n      <th>mfcc1</th>\n      <th>mfcc2</th>\n      <th>mfcc3</th>\n      <th>...</th>\n      <th>mfcc12</th>\n      <th>mfcc13</th>\n      <th>mfcc14</th>\n      <th>mfcc15</th>\n      <th>mfcc16</th>\n      <th>mfcc17</th>\n      <th>mfcc18</th>\n      <th>mfcc19</th>\n      <th>mfcc20</th>\n      <th>label</th>\n    </tr>\n  </thead>\n  <tbody>\n    <tr>\n      <td>0</td>\n      <td>0v8MGxNetjg_ 10.000_ 20.000.wav</td>\n      <td>0.519951</td>\n      <td>0.045853</td>\n      <td>1612.895795</td>\n      <td>1411.838677</td>\n      <td>2907.580566</td>\n      <td>0.107019</td>\n      <td>-376.876007</td>\n      <td>111.017372</td>\n      <td>-31.904015</td>\n      <td>...</td>\n      <td>-7.439712</td>\n      <td>-1.034580</td>\n      <td>-0.203084</td>\n      <td>-3.513495</td>\n      <td>-1.745705</td>\n      <td>-3.011878</td>\n      <td>-2.878482</td>\n      <td>-2.106427</td>\n      <td>-4.026825</td>\n      <td>not_covid</td>\n    </tr>\n    <tr>\n      <td>1</td>\n      <td>1j1duoxdxBg_ 70.000_ 80.000.wav</td>\n      <td>0.535472</td>\n      <td>0.001771</td>\n      <td>2892.087076</td>\n      <td>2467.408141</td>\n      <td>5072.664388</td>\n      <td>0.148584</td>\n      <td>-519.158447</td>\n      <td>60.781284</td>\n      <td>-13.722886</td>\n      <td>...</td>\n      <td>-0.909972</td>\n      <td>7.216461</td>\n      <td>-1.719630</td>\n      <td>3.903021</td>\n      <td>3.653039</td>\n      <td>3.043882</td>\n      <td>2.439957</td>\n      <td>2.781968</td>\n      <td>2.195162</td>\n      <td>not_covid</td>\n    </tr>\n    <tr>\n      <td>2</td>\n      <td>1MSYO4wgiag_ 120.000_ 130.000.wav</td>\n      <td>0.496666</td>\n      <td>0.033657</td>\n      <td>3429.061935</td>\n      <td>2788.634413</td>\n      <td>6886.288452</td>\n      <td>0.225315</td>\n      <td>-282.297913</td>\n      <td>48.581680</td>\n      <td>-15.522366</td>\n      <td>...</td>\n      <td>-6.066336</td>\n      <td>-4.167640</td>\n      <td>1.017302</td>\n      <td>-0.523806</td>\n      <td>0.538693</td>\n      <td>-8.855953</td>\n      <td>-2.927977</td>\n      <td>-1.118562</td>\n      <td>-5.906228</td>\n      <td>not_covid</td>\n    </tr>\n    <tr>\n      <td>3</td>\n      <td>1PajbAKd8Kg_ 0.000_ 10.000.wav</td>\n      <td>0.407549</td>\n      <td>0.013452</td>\n      <td>2710.811637</td>\n      <td>2664.287550</td>\n      <td>5778.474935</td>\n      <td>0.142076</td>\n      <td>-346.857300</td>\n      <td>75.765617</td>\n      <td>-7.648193</td>\n      <td>...</td>\n      <td>5.053118</td>\n      <td>-0.291308</td>\n      <td>0.987186</td>\n      <td>-2.447526</td>\n      <td>3.692367</td>\n      <td>2.312328</td>\n      <td>-2.059656</td>\n      <td>-4.772599</td>\n      <td>-0.503851</td>\n      <td>not_covid</td>\n    </tr>\n    <tr>\n      <td>4</td>\n      <td>cov1.wav</td>\n      <td>0.412697</td>\n      <td>0.059004</td>\n      <td>1555.648634</td>\n      <td>1418.599932</td>\n      <td>2870.737092</td>\n      <td>0.133998</td>\n      <td>-340.588013</td>\n      <td>104.156700</td>\n      <td>-32.228443</td>\n      <td>...</td>\n      <td>-8.247169</td>\n      <td>0.940006</td>\n      <td>-5.701087</td>\n      <td>-6.326630</td>\n      <td>-1.080040</td>\n      <td>-1.812609</td>\n      <td>-2.518986</td>\n      <td>-3.684266</td>\n      <td>-3.564146</td>\n      <td>covid</td>\n    </tr>\n  </tbody>\n</table>\n<p>5 rows × 28 columns</p>\n</div>"
     },
     "metadata": {},
     "execution_count": 4
    }
   ],
   "source": [
    "df_features.head()"
   ]
  },
  {
   "cell_type": "code",
   "execution_count": null,
   "metadata": {},
   "outputs": [],
   "source": []
  }
 ]
}